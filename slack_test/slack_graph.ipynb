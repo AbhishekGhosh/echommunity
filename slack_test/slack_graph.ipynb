{
 "cells": [
  {
   "cell_type": "code",
   "execution_count": 1,
   "metadata": {
    "collapsed": false
   },
   "outputs": [],
   "source": [
    "import glob\n",
    "import json\n",
    "\n",
    "from pyArango.connection import *\n",
    "from pyArango.collection import Collection, Edges, Field\n",
    "from pyArango.graph import Graph, EdgeDefinition"
   ]
  },
  {
   "cell_type": "code",
   "execution_count": 3,
   "metadata": {
    "collapsed": false
   },
   "outputs": [],
   "source": [
    "conn = Connection(username=\"root\",password=\"\")\n",
    "if not conn.hasDatabase(\"echommunity\"):\n",
    "    db = conn.createDatabase(name = \"echommunity\")\n",
    "else:\n",
    "    db = conn[\"echommunity\"]"
   ]
  },
  {
   "cell_type": "code",
   "execution_count": 23,
   "metadata": {
    "collapsed": false
   },
   "outputs": [
    {
     "ename": "IndentationError",
     "evalue": "unexpected indent (<ipython-input-23-c26372e49b8e>, line 7)",
     "output_type": "error",
     "traceback": [
      "\u001b[0;36m  File \u001b[0;32m\"<ipython-input-23-c26372e49b8e>\"\u001b[0;36m, line \u001b[0;32m7\u001b[0m\n\u001b[0;31m    _fields = {\u001b[0m\n\u001b[0m    ^\u001b[0m\n\u001b[0;31mIndentationError\u001b[0m\u001b[0;31m:\u001b[0m unexpected indent\n"
     ]
    }
   ],
   "source": [
    "class Humans(Collection) :\n",
    " _fields = {\n",
    " \"name\" : Field()\n",
    " }\n",
    "\n",
    "class Friend(Edges) :theGraphtheGraph\n",
    " _fields = {\n",
    " \"lifetime\" : Field()\n",
    " }\n",
    "\n",
    "#Here's how you define a graph\n",
    "class MyGraph(Graph) :\n",
    "    _edgeDefinitions = (EdgeDefinition(\"Friend\", fromCollections = [\"Humans\"], toCollections = [\"Humans\"]), )\n",
    "    _orphanedCollections = []\n",
    "\n",
    "#create the collections (do this only if they don't already exist in the database)\n",
    "self.db.createCollection(\"Humans\")\n",
    "self.db.createCollection(\"Friend\")\n",
    "#same for the graph\n",
    "theGraph = self.db.createGraph(\"MyGraph\")\n",
    "\n",
    "#creating some documents\n",
    "h1 = theGraph.createVertex('Humans', {\"name\" : \"simba\"})\n",
    "h2 = theGraph.createVertex('Humans', {\"name\" : \"simba2\"})\n",
    "\n",
    "#linking them\n",
    "theGraph.link('Friend', h1, h2, {\"lifetime\" : \"eternal\"})\n",
    "\n",
    "#deleting one of them along with the edge\n",
    "theGraph.deleteVertex(h2)"
   ]
  },
  {
   "cell_type": "code",
   "execution_count": 4,
   "metadata": {
    "collapsed": false
   },
   "outputs": [],
   "source": [
    "class Channel(Collection) :\n",
    "    _fields = {\n",
    "        \"id\" : Field()\n",
    "    }\n",
    "    \n",
    "class User(Collection) :\n",
    "    _fields = {\n",
    "        \"id\" : Field(),\n",
    "        \"name\" : Field(),\n",
    "        \"posts\" : Field(),\n",
    "        \"community\": Field(), \n",
    "        \"design\": Field(), \n",
    "        \"hardware\": Field(), \n",
    "        \"legal\": Field(), \n",
    "        \"medical\": Field(), \n",
    "        \"software\": Field()\n",
    "    }\n",
    "\n",
    "class InChannel(Edges) :\n",
    "    _fields = {\n",
    "        \"posts\" : Field(),\n",
    "        \"community\": Field(), \n",
    "        \"design\": Field(), \n",
    "        \"hardware\": Field(), \n",
    "        \"legal\": Field(), \n",
    "        \"medical\": Field(), \n",
    "        \"software\": Field()\n",
    "    }\n",
    "    \n",
    "class Mentions(Edges) :\n",
    "    _fields = {\n",
    "        \"number\" : Field(),\n",
    "        \"channel_id\" : Field()\n",
    "    }\n",
    "    \n",
    "class Reactions(Edges) :\n",
    "    _fields = {\n",
    "        \"number\" : Field(),\n",
    "        \"channel_id\" : Field()\n",
    "    }\n",
    "    \n",
    "class echoGraph(Graph) :\n",
    "    _edgeDefinitions = (EdgeDefinition(\"InChannel\", fromCollections = [\"User\"], toCollections = [\"Channel\"]), \\\n",
    "                       EdgeDefinition(\"Mentions\", fromCollections = [\"User\"], toCollections = [\"User\"]), \\\n",
    "                       EdgeDefinition(\"Reactions\", fromCollections = [\"User\"], toCollections = [\"User\"]))\n",
    "    _orphanedCollections = []"
   ]
  },
  {
   "cell_type": "code",
   "execution_count": 7,
   "metadata": {
    "collapsed": false
   },
   "outputs": [],
   "source": [
    "if not db.hasCollection('Channel'):\n",
    "    colChannel = db.createCollection(\"Channel\")\n",
    "else:\n",
    "    colChannel = db.collections['Channel']\n",
    "\n",
    "if not db.hasCollection('User'):\n",
    "    colUser = db.createCollection(\"User\")\n",
    "else:\n",
    "    colUser = db.collections['User']\n",
    "\n",
    "if not db.hasGraph('echoGraph'):\n",
    "    theGraph = db.createGraph(\"echoGraph\")\n",
    "else:\n",
    "    theGraph = db.graphs[\"echoGraph\"]"
   ]
  },
  {
   "cell_type": "code",
   "execution_count": 36,
   "metadata": {
    "collapsed": false
   },
   "outputs": [
    {
     "name": "stdout",
     "output_type": "stream",
     "text": [
      "[u'MainData']\n",
      "[u'U2Q4137LL', u'U04DFTZ7D', u'U1G9AEN7L', u'U0PKUKHPC', u'U336DPZV4', u'U2YN8FREG', u'U23D8HAC9', u'U0HN7G093', u'U352MKG4V', u'U3GHS132Q', u'U0KPE2P16', u'U32V2JWFJ', u'U0PPGEYFK', u'U1TAU2NES', u'U07UEJC2H', u'U1NTT0ZPH', u'U35LGETA4', u'U2Y7FPEUB', u'U34N7NQNR', u'U2PTWF6SX', u'U0LPTV0Q4', u'U2M9XDS5N', u'U1P9ARRU3', u'U3HH0CEAW', u'U20C8CKTL', u'U2V0F9YAK', u'U1N5Q9334', u'U0LLJC03V', u'U3ARRLDQ8', u'U0DRKLMS4', u'U0AAL4W13', u'U3GV4N878', u'U04CV54A4', u'U1G9KDFNE', u'U1NLWV4BZ', u'U087C42L8', u'U0HF2S3QX', u'U04H8570R', u'USLACKBOT', u'U38TWKY9Y', u'U3FCS2UP3', u'U33389FRA', u'U3210MXC5', u'U2UU194RZ', u'U2MF267L2', u'U1EP1RDGE', u'U3BFTB7M4', u'U3CV9P9NH', u'U3D9HA0N4', u'U13UA10KS', u'U24BZF8UR', u'U0SHK0X1D', u'U0GN7EB32', u'U0KLG7CP8', u'U07SS18MT', u'U36QEPF51', u'U3BN2NTFU', u'U38HVMZ6K', u'U32FZ0QLX', u'U0FN1B8KD', u'U37GZRZU6', u'U2X7189QR', u'U2NAWHM9N', u'U32AR6TED', u'U1NM17NHF', u'U0B47KC3S', u'U2XLJS5L0', u'U1PKXQVDW', u'U3ML4L01Z', u'U33KM85FA', u'U2UV28W2F', u'U38JDLY2E', u'U04DZ4R0V', u'U3N1SENJY', u'U0JFW4XTQ', u'U3CDR25JP', u'U2PFHNN3C', u'U2V03QR8E', u'U394HRZ1B', u'U32UWGGN9', u'U3B1RKVSP', u'U3J40RUDT', u'U1PAGSKGU', u'U07SNUM7F', u'U39GX1A69', u'U3FE9KW4D', u'U1JCFS7N3', u'U33817K25', u'U2X419KJS', u'U0M70EXNC', u'U3BAH0X62', u'U351ATVK5', u'U2QMN3L1F', u'U31UCUFPW', u'U1DGN6S80', u'U0GMX7QUB', u'U3267ST8C', u'U2404BG5N', u'U3GQS8JTZ', u'U34231VFH']\n"
     ]
    }
   ],
   "source": [
    "with open('logs/MainUsers.jason') as json_data:\n",
    "    d = json.load(json_data)\n",
    "    print d.keys()\n",
    "    print d['MainData'].keys()\n",
    "    for k in d['MainData'].iterkeys() :\n",
    "        theGraph.createVertex('User', {\n",
    "            \"id\" : k,\n",
    "            \"name\" : d['MainData'][k][u'id'],\n",
    "            \"posts\" : d['MainData'][k][u'posts'][u'posts'],\n",
    "            \"community\": d['MainData'][k][u'posts'][u'community'], \n",
    "            \"design\": d['MainData'][k][u'posts'][u'design'],\n",
    "            \"hardware\": d['MainData'][k][u'posts'][u'hardware'], \n",
    "            \"legal\": d['MainData'][k][u'posts'][u'legal'],\n",
    "            \"medical\": d['MainData'][k][u'posts'][u'medical'], \n",
    "            \"software\": d['MainData'][k][u'posts'][u'software'],\n",
    "        })"
   ]
  },
  {
   "cell_type": "code",
   "execution_count": 8,
   "metadata": {
    "collapsed": false
   },
   "outputs": [
    {
     "name": "stdout",
     "output_type": "stream",
     "text": [
      "[u'reactions', u'channel_id', u'users_info', u'users', u'mentions']\n"
     ]
    }
   ],
   "source": [
    "with open('logs/C04DFTZ7X.json') as json_data:\n",
    "    d = json.load(json_data)\n",
    "    print d.keys()"
   ]
  },
  {
   "cell_type": "code",
   "execution_count": null,
   "metadata": {
    "collapsed": true
   },
   "outputs": [],
   "source": []
  }
 ],
 "metadata": {
  "kernelspec": {
   "display_name": "Python 2",
   "language": "python",
   "name": "python2"
  },
  "language_info": {
   "codemirror_mode": {
    "name": "ipython",
    "version": 2
   },
   "file_extension": ".py",
   "mimetype": "text/x-python",
   "name": "python",
   "nbconvert_exporter": "python",
   "pygments_lexer": "ipython2",
   "version": "2.7.11"
  }
 },
 "nbformat": 4,
 "nbformat_minor": 0
}
